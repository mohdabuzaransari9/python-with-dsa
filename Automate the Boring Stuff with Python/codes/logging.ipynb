{
  "cells": [
    {
      "cell_type": "markdown",
      "metadata": {
        "id": "ySdW28JlhdtI"
      },
      "source": [
        "## **logging**"
      ]
    },
    {
      "cell_type": "markdown",
      "metadata": {
        "id": "ECcyNCJrtXRq"
      },
      "source": [
        "**what's happening in your program and in what's order**"
      ]
    },
    {
      "cell_type": "markdown",
      "metadata": {
        "id": "iQk80ynLX431"
      },
      "source": [
        "logging module -> to display log messages on your screen when your program runs"
      ]
    },
    {
      "cell_type": "code",
      "execution_count": 1,
      "metadata": {
        "id": "-CTmQPxPhIH4"
      },
      "outputs": [],
      "source": [
        "import logging\n",
        "logging.basicConfig(level=logging.DEBUG, format='%(asctime)s - %(levelname)s - %(message)s')"
      ]
    },
    {
      "cell_type": "markdown",
      "metadata": {
        "id": "8tTzWwOgiEpw"
      },
      "source": [
        "**factorial code**"
      ]
    },
    {
      "cell_type": "code",
      "execution_count": 2,
      "metadata": {
        "id": "L5_oZtvcgbKD"
      },
      "outputs": [],
      "source": [
        "\n",
        "def fact(n):\n",
        "  fact=1\n",
        "  for i in range(1,n+1):\n",
        "    fact=fact*i\n",
        "  return fact"
      ]
    },
    {
      "cell_type": "code",
      "execution_count": 3,
      "metadata": {
        "colab": {
          "base_uri": "https://localhost:8080/"
        },
        "id": "rpkO51nfg4_w",
        "outputId": "99a559cd-c310-4fdc-f50c-fca938bbc96a"
      },
      "outputs": [
        {
          "name": "stdout",
          "output_type": "stream",
          "text": [
            "120\n"
          ]
        }
      ],
      "source": [
        "print(fact(5))"
      ]
    },
    {
      "cell_type": "markdown",
      "metadata": {
        "id": "ivcxpkQnhBvf"
      },
      "source": [
        "**implement logging**"
      ]
    },
    {
      "cell_type": "code",
      "execution_count": 4,
      "metadata": {
        "colab": {
          "base_uri": "https://localhost:8080/"
        },
        "id": "JdtQ2G3piPFY",
        "outputId": "d329652f-6fd3-4833-ef3c-a4f4277181fd"
      },
      "outputs": [
        {
          "name": "stderr",
          "output_type": "stream",
          "text": [
            "2025-10-10 23:37:04,397 - DEBUG - start of program\n",
            "2025-10-10 23:37:04,398 - DEBUG - start of factorial (5)\n",
            "2025-10-10 23:37:04,398 - DEBUG - i is 1, fact is 1\n",
            "2025-10-10 23:37:04,399 - DEBUG - return value is 1\n",
            "2025-10-10 23:37:04,399 - DEBUG - i is 2, fact is 2\n",
            "2025-10-10 23:37:04,400 - DEBUG - return value is 2\n",
            "2025-10-10 23:37:04,400 - DEBUG - i is 3, fact is 6\n",
            "2025-10-10 23:37:04,401 - DEBUG - return value is 6\n",
            "2025-10-10 23:37:04,401 - DEBUG - i is 4, fact is 24\n",
            "2025-10-10 23:37:04,401 - DEBUG - return value is 24\n",
            "2025-10-10 23:37:04,403 - DEBUG - i is 5, fact is 120\n",
            "2025-10-10 23:37:04,403 - DEBUG - return value is 120\n",
            "2025-10-10 23:37:04,404 - DEBUG - end of program\n"
          ]
        },
        {
          "name": "stdout",
          "output_type": "stream",
          "text": [
            "120\n"
          ]
        }
      ],
      "source": [
        "import logging\n",
        "logging.basicConfig(level=logging.DEBUG, format='%(asctime)s - %(levelname)s - %(message)s')\n",
        "\n",
        "\n",
        "logging.debug('start of program')\n",
        "\n",
        "def fact(n):\n",
        "  logging.debug('start of factorial (%s)'% (n))\n",
        "  fact=1\n",
        "  for i in range(1,n+1):\n",
        "    fact=fact*i\n",
        "    logging.debug('i is %s, fact is %s' %(i,fact))\n",
        "    logging.debug('return value is %s' %(fact))\n",
        "  return fact\n",
        "\n",
        "print(fact(5))\n",
        "logging.debug('end of program')\n"
      ]
    },
    {
      "cell_type": "markdown",
      "metadata": {
        "id": "hPDwVXP1aHK0"
      },
      "source": [
        "**logging disable**"
      ]
    },
    {
      "cell_type": "code",
      "execution_count": 5,
      "metadata": {
        "colab": {
          "base_uri": "https://localhost:8080/"
        },
        "id": "Q7658LLpi90H",
        "outputId": "5b938267-53cc-4045-ca98-8a06e50bb361"
      },
      "outputs": [
        {
          "name": "stdout",
          "output_type": "stream",
          "text": [
            "120\n"
          ]
        }
      ],
      "source": [
        "import logging\n",
        "logging.basicConfig(level=logging.DEBUG, format='%(asctime)s - %(levelname)s - %(message)s')\n",
        "\n",
        "logging.disable(level=logging.CRITICAL) # to disable logging at this level and lower of this level\n",
        "\n",
        "logging.debug('start of program')\n",
        "\n",
        "def fact(n):\n",
        "  logging.debug('start of factorial (%s)'% (n))\n",
        "  fact=1\n",
        "  for i in range(1,n+1):\n",
        "    fact=fact*i\n",
        "    logging.debug('i is (%s), fact is (%s)' %(i,fact))\n",
        "    logging.debug('return value is %s' %(fact))\n",
        "  return fact\n",
        "\n",
        "print(fact(5))\n",
        "logging.debug('end of program')\n"
      ]
    },
    {
      "cell_type": "markdown",
      "metadata": {
        "id": "9rKoj4AUq3rL"
      },
      "source": [
        "**log levels**"
      ]
    },
    {
      "cell_type": "code",
      "execution_count": 6,
      "metadata": {
        "id": "TYbwp9s6YAKc"
      },
      "outputs": [],
      "source": [
        "logging.debug('debug')             #----> (lowest level) --> log messagge at debug level\n",
        "logging.info('info')               # for some important info\n",
        "logging.warning('warning')         # something could possibly gone wrong\n",
        "logging.error('error')             # something has gone wrong\n",
        "logging.critical('critical error') #----> (highest level) something that will cause program stop"
      ]
    },
    {
      "cell_type": "markdown",
      "metadata": {
        "id": "ldVvV9NWIRbS"
      },
      "source": [
        "**save logging to a txt file**"
      ]
    },
    {
      "cell_type": "markdown",
      "metadata": {
        "id": "n_QgKuBP1DwS"
      },
      "source": [
        "logging save karna but ek external file m"
      ]
    },
    {
      "cell_type": "code",
      "execution_count": 11,
      "metadata": {
        "id": "cmInTbXyHq_r"
      },
      "outputs": [
        {
          "name": "stdout",
          "output_type": "stream",
          "text": [
            "120\n"
          ]
        }
      ],
      "source": [
        "import logging\n",
        "logging.basicConfig(filename=\"myfile.txt\", level=logging.DEBUG, format='%(asctime)s - %(levelname)s - %(message)s') # put filename here remember to give filename with path\n",
        "\n",
        "logging.debug('start of program')\n",
        "\n",
        "def fact(n):\n",
        "  logging.debug('start of factorial (%s)'% (n))\n",
        "  fact=1\n",
        "  for i in range(1,n+1):\n",
        "    fact=fact*i\n",
        "    logging.debug('i is (%s), fact is (%s)' %(i,fact))\n",
        "    logging.debug('return value is %s' %(fact))\n",
        "  return fact\n",
        "\n",
        "print(fact(5))\n",
        "logging.debug('end of program')\n"
      ]
    },
    {
      "cell_type": "code",
      "execution_count": null,
      "metadata": {},
      "outputs": [],
      "source": []
    }
  ],
  "metadata": {
    "colab": {
      "provenance": []
    },
    "kernelspec": {
      "display_name": "Python 3",
      "name": "python3"
    },
    "language_info": {
      "codemirror_mode": {
        "name": "ipython",
        "version": 3
      },
      "file_extension": ".py",
      "mimetype": "text/x-python",
      "name": "python",
      "nbconvert_exporter": "python",
      "pygments_lexer": "ipython3",
      "version": "3.10.0"
    }
  },
  "nbformat": 4,
  "nbformat_minor": 0
}
